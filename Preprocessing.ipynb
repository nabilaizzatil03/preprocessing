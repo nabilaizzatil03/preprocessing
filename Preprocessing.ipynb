{
  "nbformat": 4,
  "nbformat_minor": 0,
  "metadata": {
    "colab": {
      "provenance": []
    },
    "kernelspec": {
      "name": "python3",
      "display_name": "Python 3"
    },
    "language_info": {
      "name": "python"
    }
  },
  "cells": [
    {
      "cell_type": "code",
      "execution_count": 4,
      "metadata": {
        "colab": {
          "base_uri": "https://localhost:8080/"
        },
        "id": "QVDCl8ghP2pV",
        "outputId": "64a1c730-4512-4e8c-b359-4dfa5e7d23ea"
      },
      "outputs": [
        {
          "output_type": "stream",
          "name": "stdout",
          "text": [
            "Akurasi: 1.0\n",
            "\n",
            "Confusion Matrix:\n",
            " [[1 0]\n",
            " [0 1]]\n",
            "\n",
            "Classification Report:\n",
            "               precision    recall  f1-score   support\n",
            "\n",
            "           0       1.00      1.00      1.00         1\n",
            "           1       1.00      1.00      1.00         1\n",
            "\n",
            "    accuracy                           1.00         2\n",
            "   macro avg       1.00      1.00      1.00         2\n",
            "weighted avg       1.00      1.00      1.00         2\n",
            "\n"
          ]
        }
      ],
      "source": [
        "# Import library yang diperlukan\n",
        "import pandas as pd\n",
        "from sklearn.model_selection import train_test_split\n",
        "from sklearn.preprocessing import StandardScaler, OneHotEncoder\n",
        "from sklearn.impute import SimpleImputer\n",
        "from sklearn.compose import ColumnTransformer\n",
        "from sklearn.pipeline import Pipeline\n",
        "from sklearn.ensemble import RandomForestClassifier\n",
        "from sklearn.metrics import accuracy_score, confusion_matrix, classification_report\n",
        "\n",
        "# Contoh data (Data dummy dengan lebih banyak sampel untuk akurasi yang lebih baik)\n",
        "data = {\n",
        "    'Nilai_Ujian_Masuk': [85, 70, None, 88, 92, 78, 80, 67, 90, 95],\n",
        "    'Prestasi_Akademik': [3.5, 3.0, 2.8, 3.9, None, 3.2, 3.1, 2.9, 3.8, 3.6],\n",
        "    'Ekstrakurikuler': [2, 1, 3, 0, 2, 1, 1, 0, 3, 2],\n",
        "    'Status_Ekonomi': ['Tinggi', 'Menengah', 'Rendah', 'Menengah', 'Tinggi', None, 'Menengah', 'Rendah', 'Tinggi', 'Menengah'],\n",
        "    'Jenis_Kelamin': ['Laki-laki', 'Perempuan', 'Laki-laki', 'Perempuan', 'Laki-laki', 'Perempuan', 'Laki-laki', 'Perempuan', 'Laki-laki', 'Perempuan'],\n",
        "    'Latar_Belakang_Sekolah': ['Favorit', 'Reguler', 'Favorit', 'Reguler', 'Favorit', 'Reguler', 'Favorit', 'Reguler', 'Favorit', 'Reguler'],\n",
        "    'Diterima': [1, 0, 1, 1, 1, 0, 1, 0, 1, 1]\n",
        "}\n",
        "\n",
        "# Membuat DataFrame\n",
        "df = pd.DataFrame(data)\n",
        "\n",
        "# Mengisi nilai None di kolom kategorikal dengan \"Tidak Diketahui\"\n",
        "df['Status_Ekonomi'] = df['Status_Ekonomi'].fillna('Tidak Diketahui')\n",
        "\n",
        "# 1. Mengisi nilai yang hilang (Imputasi)\n",
        "numeric_features = ['Nilai_Ujian_Masuk', 'Prestasi_Akademik']\n",
        "numeric_transformer = Pipeline(steps=[\n",
        "    ('imputer', SimpleImputer(strategy='mean')), # Mengisi data hilang dengan mean\n",
        "    ('scaler', StandardScaler()) # Normalisasi data\n",
        "])\n",
        "\n",
        "categorical_features = ['Status_Ekonomi', 'Jenis_Kelamin', 'Latar_Belakang_Sekolah']\n",
        "categorical_transformer = Pipeline(steps=[\n",
        "    ('imputer', SimpleImputer(strategy='most_frequent')), # Mengisi data hilang dengan modus\n",
        "    ('onehot', OneHotEncoder(drop='first')) # Encoding data kategorikal\n",
        "])\n",
        "\n",
        "# Menggabungkan preprocessing untuk fitur numerik dan kategorikal\n",
        "preprocessor = ColumnTransformer(\n",
        "    transformers=[\n",
        "        ('num', numeric_transformer, numeric_features),\n",
        "        ('cat', categorical_transformer, categorical_features)\n",
        "    ])\n",
        "\n",
        "# Split data menjadi fitur dan target\n",
        "X = df.drop('Diterima', axis=1)\n",
        "y = df['Diterima']\n",
        "\n",
        "# Membagi data menjadi data latih dan uji\n",
        "X_train, X_test, y_train, y_test = train_test_split(X, y, test_size=0.2, random_state=42)\n",
        "\n",
        "# Menyiapkan pipeline untuk preprocessing dan modeling\n",
        "model = Pipeline(steps=[\n",
        "    ('preprocessor', preprocessor),\n",
        "    ('classifier', RandomForestClassifier(random_state=42))\n",
        "])\n",
        "\n",
        "# Melatih model\n",
        "model.fit(X_train, y_train)\n",
        "\n",
        "# Memprediksi dengan data uji\n",
        "y_pred = model.predict(X_test)\n",
        "\n",
        "# Evaluasi model\n",
        "print(\"Akurasi:\", accuracy_score(y_test, y_pred))\n",
        "print(\"\\nConfusion Matrix:\\n\", confusion_matrix(y_test, y_pred))\n",
        "print(\"\\nClassification Report:\\n\", classification_report(y_test, y_pred, zero_division=1))\n"
      ]
    }
  ]
}